{
 "cells": [
  {
   "cell_type": "code",
   "execution_count": 1,
   "id": "5a216952-eb87-4ef0-a2f4-36024fec4466",
   "metadata": {},
   "outputs": [
    {
     "ename": "ModuleNotFoundError",
     "evalue": "No module named 'torch'",
     "output_type": "error",
     "traceback": [
      "\u001b[1;31m---------------------------------------------------------------------------\u001b[0m",
      "\u001b[1;31mModuleNotFoundError\u001b[0m                       Traceback (most recent call last)",
      "Cell \u001b[1;32mIn[1], line 1\u001b[0m\n\u001b[1;32m----> 1\u001b[0m \u001b[38;5;28;01mimport\u001b[39;00m \u001b[38;5;21;01mtorch\u001b[39;00m\n\u001b[0;32m      2\u001b[0m \u001b[38;5;28;01mimport\u001b[39;00m \u001b[38;5;21;01mtorch\u001b[39;00m\u001b[38;5;21;01m.\u001b[39;00m\u001b[38;5;21;01mnn\u001b[39;00m \u001b[38;5;28;01mas\u001b[39;00m \u001b[38;5;21;01mnn\u001b[39;00m\n\u001b[0;32m      3\u001b[0m \u001b[38;5;28;01mimport\u001b[39;00m \u001b[38;5;21;01mtorch\u001b[39;00m\u001b[38;5;21;01m.\u001b[39;00m\u001b[38;5;21;01mnn\u001b[39;00m\u001b[38;5;21;01m.\u001b[39;00m\u001b[38;5;21;01mfunctional\u001b[39;00m \u001b[38;5;28;01mas\u001b[39;00m \u001b[38;5;21;01mF\u001b[39;00m\n",
      "\u001b[1;31mModuleNotFoundError\u001b[0m: No module named 'torch'"
     ]
    }
   ],
   "source": [
    "import torch\n",
    "import torch.nn as nn\n",
    "import torch.nn.functional as F\n",
    "from torch_geometric.data import Data, DataLoader\n",
    "from torch_geometric.datasets import MoleculeNet\n",
    "from torch_geometric.nn import GCNConv, global_mean_pool, global_add_pool, SAGEConv\n",
    "import numpy as np\n",
    "from sklearn.model_selection import train_test_split\n",
    "from sklearn.metrics import r2_score, mean_squared_error, mean_absolute_error\n",
    "import matplotlib.pyplot as plt\n",
    "from rdkit import Chem\n",
    "from rdkit.Chem import Draw\n",
    "import pubchempy as pcp\n",
    "import pandas as pd\n",
    "\n",
    "class LipophilicityGNN(torch.nn.Module):\n",
    "    def __init__(self, num_features, hidden_channels=64, num_layers=3, dropout=0.2):\n",
    "        super(LipophilicityGNN, self).__init__()\n",
    "        self.num_layers = num_layers\n",
    "        self.dropout = dropout\n",
    "        \n",
    "       \n",
    "        self.conv_first = GCNConv(num_features, hidden_channels)\n",
    "        \n",
    "        self.convs = torch.nn.ModuleList([\n",
    "            GCNConv(hidden_channels, hidden_channels) \n",
    "            for _ in range(num_layers - 1)\n",
    "        ])\n",
    "        \n",
    "        self.skips = torch.nn.ModuleList([\n",
    "            nn.Linear(hidden_channels, hidden_channels)\n",
    "            for _ in range(num_layers - 1)\n",
    "        ])\n",
    "        self.linear1 = nn.Linear(hidden_channels, hidden_channels // 2)\n",
    "        self.linear2 = nn.Linear(hidden_channels // 2, 1)\n",
    "        \n",
    "    def forward(self, x, edge_index, batch):\n",
    "       \n",
    "        h = F.relu(self.conv_first(x, edge_index))\n",
    "        h = F.dropout(h, p=self.dropout, training=self.training)\n",
    "        \n",
    "        for i in range(self.num_layers - 1):\n",
    "            h_new = F.relu(self.convs[i](h, edge_index))\n",
    "            h_skip = self.skips[i](h)\n",
    "            h = h_new + h_skip\n",
    "            h = F.dropout(h, p=self.dropout, training=self.training)\n",
    "        \n",
    "        \n",
    "        h = global_mean_pool(h, batch)\n",
    "        \n",
    "\n",
    "        h = F.relu(self.linear1(h))\n",
    "        h = F.dropout(h, p=self.dropout, training=self.training)\n",
    "        return self.linear2(h)\n",
    "        \n",
    "def load_and_preprocess_data():\n",
    "    dataset = MoleculeNet(root='data/lipophilicity', name='ESOL')\n",
    "    \n",
    "    data_list = list(dataset)\n",
    "    \n",
    "    indices = list(range(len(dataset)))\n",
    "    train_idx, test_idx = train_test_split(indices, test_size=0.2, random_state=42)\n",
    "    \n",
    "    train_loader = DataLoader([dataset[i] for i in train_idx], batch_size=64, shuffle=True)\n",
    "    test_loader = DataLoader([dataset[i] for i in test_idx], batch_size=64)\n",
    "    \n",
    "    return train_loader, test_loader, dataset\n",
    "\n",
    "def train_model(model, train_loader, optimizer, device):\n",
    "    model.train()\n",
    "    total_loss = 0\n",
    "    \n",
    "    for data in train_loader:\n",
    "        data = data.to(device)\n",
    "        optimizer.zero_grad()\n",
    "        \n",
    "        out = model(data.x, data.edge_index, data.batch)\n",
    "        loss = F.mse_loss(out, data.y.view(-1, 1))\n",
    "        \n",
    "        loss.backward()\n",
    "        optimizer.step()\n",
    "        total_loss += loss.item() * data.num_graphs\n",
    "        \n",
    "    return total_loss / len(train_loader.dataset)\n",
    "\n",
    "def evaluate_model(model, loader, device):\n",
    "    model.eval()\n",
    "    predictions = []\n",
    "    actuals = []\n",
    "    \n",
    "    with torch.no_grad():\n",
    "        for data in loader:\n",
    "            data = data.to(device)\n",
    "            out = model(data.x, data.edge_index, data.batch)\n",
    "            predictions.extend(out.cpu().numpy())\n",
    "            actuals.extend(data.y.cpu().numpy())\n",
    "    \n",
    "    predictions = np.array(predictions).flatten()\n",
    "    actuals = np.array(actuals)\n",
    "    \n",
    "    r2 = r2_score(actuals, predictions)\n",
    "    rmse = np.sqrt(mean_squared_error(actuals, predictions))\n",
    "    mae = mean_absolute_error(actuals, predictions)\n",
    "    \n",
    "    return r2, rmse, mae\n",
    "\n",
    "def main():\n",
    "    device = torch.device('cuda' if torch.cuda.is_available() else 'cpu')\n",
    "    \n",
    "    train_loader, test_loader, dataset = load_and_preprocess_data()\n",
    "    \n",
    "    model = LipophilicityGNN(\n",
    "        num_features=dataset[0].x.shape[1],\n",
    "        hidden_channels=64,\n",
    "        num_layers=3,\n",
    "        dropout=0.2\n",
    "    ).to(device)\n",
    "    \n",
    "    optimizer = torch.optim.Adam(model.parameters(), lr=0.001)\n",
    "    \n",
    "    epochs = 100\n",
    "    train_losses = []\n",
    "    test_metrics = []\n",
    "    \n",
    "    for epoch in range(epochs):\n",
    "        train_loss = train_model(model, train_loader, optimizer, device)\n",
    "        \n",
    "        r2, rmse, mae = evaluate_model(model, test_loader, device)\n",
    "        \n",
    "        train_losses.append(train_loss)\n",
    "        test_metrics.append((r2, rmse, mae))\n",
    "        \n",
    "        if (epoch + 1) % 10 == 0:\n",
    "            print(f'Epoch {epoch+1:03d}, Loss: {train_loss:.4f}, R²: {r2:.4f}, '\n",
    "                  f'RMSE: {rmse:.4f}, MAE: {mae:.4f}')\n",
    "    \n",
    "    plt.figure(figsize=(12, 4))\n",
    "    \n",
    "    plt.subplot(131)\n",
    "    plt.plot(train_losses)\n",
    "    plt.title('Training Loss')\n",
    "    plt.xlabel('Epoch')\n",
    "    plt.ylabel('MSE Loss')\n",
    "    \n",
    "    plt.subplot(132)\n",
    "    plt.plot([m[0] for m in test_metrics])\n",
    "    plt.title('R² Score')\n",
    "    plt.xlabel('Epoch')\n",
    "    plt.ylabel('R²')\n",
    "    \n",
    "    plt.subplot(133)\n",
    "    plt.plot([m[1] for m in test_metrics])\n",
    "    plt.title('RMSE')\n",
    "    plt.xlabel('Epoch')\n",
    "    plt.ylabel('RMSE')\n",
    "    \n",
    "    plt.tight_layout()\n",
    "    plt.show()\n",
    "\n",
    "if __name__ == \"__main__\":\n",
    "    main()"
   ]
  },
  {
   "cell_type": "code",
   "execution_count": 2,
   "id": "3a9296a7-414d-4bc1-9d42-d07c36b47952",
   "metadata": {},
   "outputs": [
    {
     "name": "stdout",
     "output_type": "stream",
     "text": [
      "Looking in indexes: https://download.pytorch.org/whl/cu118\n"
     ]
    },
    {
     "name": "stderr",
     "output_type": "stream",
     "text": [
      "ERROR: Could not find a version that satisfies the requirement torch (from versions: none)\n",
      "ERROR: No matching distribution found for torch\n"
     ]
    }
   ],
   "source": [
    "!pip install torch torchvision torchaudio --index-url https://download.pytorch.org/whl/cu118\n"
   ]
  },
  {
   "cell_type": "code",
   "execution_count": 3,
   "id": "88c1e26a-ba3c-47c5-aef9-64bc02ecdcfa",
   "metadata": {},
   "outputs": [
    {
     "name": "stderr",
     "output_type": "stream",
     "text": [
      "ERROR: Could not find a version that satisfies the requirement torch (from versions: none)\n",
      "ERROR: No matching distribution found for torch\n"
     ]
    }
   ],
   "source": [
    "!pip install torch torchvision torchaudio"
   ]
  },
  {
   "cell_type": "code",
   "execution_count": 2,
   "id": "6d8768ec-6bc2-4932-96f7-ca51ce82b437",
   "metadata": {},
   "outputs": [
    {
     "ename": "ModuleNotFoundError",
     "evalue": "No module named 'torch'",
     "output_type": "error",
     "traceback": [
      "\u001b[1;31m---------------------------------------------------------------------------\u001b[0m",
      "\u001b[1;31mModuleNotFoundError\u001b[0m                       Traceback (most recent call last)",
      "Cell \u001b[1;32mIn[2], line 1\u001b[0m\n\u001b[1;32m----> 1\u001b[0m \u001b[38;5;28;01mimport\u001b[39;00m \u001b[38;5;21;01mtorch\u001b[39;00m\n\u001b[0;32m      2\u001b[0m \u001b[38;5;28mprint\u001b[39m(torch\u001b[38;5;241m.\u001b[39m__version__)\n\u001b[0;32m      3\u001b[0m \u001b[38;5;28mprint\u001b[39m(torch\u001b[38;5;241m.\u001b[39mcuda\u001b[38;5;241m.\u001b[39mis_available())  \u001b[38;5;66;03m# Check if GPU is accessible\u001b[39;00m\n",
      "\u001b[1;31mModuleNotFoundError\u001b[0m: No module named 'torch'"
     ]
    }
   ],
   "source": [
    "import torch\n",
    "print(torch.__version__)\n",
    "print(torch.cuda.is_available())  # Check if GPU is accessible\n"
   ]
  },
  {
   "cell_type": "code",
   "execution_count": null,
   "id": "a8722681-5f4b-4536-b0d0-88f4555f0936",
   "metadata": {},
   "outputs": [],
   "source": []
  }
 ],
 "metadata": {
  "kernelspec": {
   "display_name": "Python 3 (ipykernel)",
   "language": "python",
   "name": "python3"
  },
  "language_info": {
   "codemirror_mode": {
    "name": "ipython",
    "version": 3
   },
   "file_extension": ".py",
   "mimetype": "text/x-python",
   "name": "python",
   "nbconvert_exporter": "python",
   "pygments_lexer": "ipython3",
   "version": "3.13.1"
  }
 },
 "nbformat": 4,
 "nbformat_minor": 5
}
